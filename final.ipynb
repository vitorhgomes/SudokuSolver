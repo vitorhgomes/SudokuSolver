{
 "cells": [
  {
   "attachments": {},
   "cell_type": "markdown",
   "metadata": {},
   "source": [
    "# Solve Sudoku"
   ]
  },
  {
   "cell_type": "code",
   "execution_count": 1,
   "metadata": {},
   "outputs": [],
   "source": [
    "TRAINING_IMAGES_FOLDER = \"data/train/images/\"\n",
    "TRAINING_LABELS_PATH = \"data/train/labels.csv\"\n",
    "TEST_IMAGES_FOLDER = \"data/test/images\""
   ]
  },
  {
   "attachments": {},
   "cell_type": "markdown",
   "metadata": {},
   "source": [
    "### Import Libraries"
   ]
  },
  {
   "cell_type": "code",
   "execution_count": 2,
   "metadata": {},
   "outputs": [],
   "source": [
    "import os\n",
    "import tqdm\n",
    "\n",
    "import pandas as pd\n",
    "import numpy as np\n",
    "\n",
    "import torch\n",
    "import torchvision.transforms as transforms\n",
    "from PIL import Image\n",
    "\n",
    "from sklearn.model_selection import train_test_split\n",
    "from sklearn.svm import SVC\n",
    "from sklearn.metrics import mean_squared_error,mean_absolute_error\n",
    "import matplotlib.pyplot as plt\n",
    "%matplotlib inline\n",
    "\n",
    "import cv2 as cv"
   ]
  },
  {
   "attachments": {},
   "cell_type": "markdown",
   "metadata": {},
   "source": [
    "### Align Game Grid"
   ]
  },
  {
   "cell_type": "code",
   "execution_count": 11,
   "metadata": {},
   "outputs": [],
   "source": [
    "def align_img(img):\n",
    "\n",
    "    # Add border\n",
    "    img = cv.copyMakeBorder(img, 50, 50, 50, 50, cv.BORDER_CONSTANT, value=(0, 0, 0))\n",
    "\n",
    "    # Make gray\n",
    "    gray = cv.cvtColor(img, cv.COLOR_BGR2GRAY)\n",
    "\n",
    "    # Apply a blur to reduce noise\n",
    "    blurred = cv.GaussianBlur(gray, (5, 5), 0)\n",
    "\n",
    "    # Define a 3x3 Sobel filter for detecting horizontal and vertical edges\n",
    "    edges = cv.Canny(blurred, 100, 200)\n",
    "\n",
    "    # Find contours in the edge image\n",
    "    contours, _ = cv.findContours(edges, cv.RETR_EXTERNAL, cv.CHAIN_APPROX_SIMPLE)\n",
    "\n",
    "    # Initialize min/max values\n",
    "    min_xy, max_xy, min_yx, max_yx = float('inf'), 0, float('inf'), 0\n",
    "\n",
    "    # Loop over all contours and their points\n",
    "    for contour in contours:\n",
    "        for point in contour:\n",
    "            x, y = point[0]\n",
    "            if x + y < min_xy:\n",
    "                top_left = (x, y)\n",
    "                min_xy = x + y\n",
    "            if x+y > max_xy:\n",
    "                bottom_right = (x, y)\n",
    "                max_xy = x+y\n",
    "            if y-x < min_yx:\n",
    "                top_right = (x, y)\n",
    "                min_yx = y-x\n",
    "            if x-y < max_yx:\n",
    "                bottom_left = (x, y)\n",
    "                max_yx = x-y\n",
    "\n",
    "    border = np.array([top_left, bottom_left, bottom_right, top_right])\n",
    "\n",
    "    # Draw the largest contour on the original image\n",
    "    # cv.drawContours(img, [border], -1, (0, 255, 0), 3)\n",
    "\n",
    "    # cv.drawMarker(img, bottom_left, color=(255,0,0))\n",
    "    # cv.drawMarker(img, bottom_right, color=(255,0,0))\n",
    "    # cv.drawMarker(img, top_right, color=(255,0,0))\n",
    "    # cv.drawMarker(img, top_left, color=(255,0,0))\n",
    "    # print(top_right)\n",
    "    # print(top_left)\n",
    "    # print(bottom_right)\n",
    "    # print(bottom_left)\n",
    "\n",
    "\n",
    "    # cv_imshow(img)\n",
    "\n",
    "    # Get the minimum bounding rectangle of the border\n",
    "    # rect = cv.minAreaRect(border)\n",
    "\n",
    "    # # Calculate the rotation angle of the rectangle\n",
    "    # angle = rect[2]\n",
    " \n",
    "    # if angle > 0:\n",
    "    #     border = np.array([top_left, bottom_left, bottom_right, top_right])\n",
    "    # else:\n",
    "    #     border = np.array([top_right, top_left, bottom_left, bottom_right])\n",
    "\n",
    "    # # Apply a perspective transform to get a bird's-eye view of the grid\n",
    "    src = np.float32(border)\n",
    "    dst = np.float32([[0, 0], [0, 450], [450, 450], [450, 0]])\n",
    "    M = cv.getPerspectiveTransform(src, dst)\n",
    "    warped = cv.warpPerspective(gray, M, (450, 450))\n",
    "\n",
    "    # cv_imshow(warped)\n",
    "    \n",
    "    return warped"
   ]
  },
  {
   "attachments": {},
   "cell_type": "markdown",
   "metadata": {},
   "source": [
    "### Read Digits"
   ]
  },
  {
   "attachments": {},
   "cell_type": "markdown",
   "metadata": {},
   "source": [
    "#### Model"
   ]
  },
  {
   "attachments": {},
   "cell_type": "markdown",
   "metadata": {},
   "source": [
    "The model was trained on the MNIST dataset for 20 epochs. Random noise was added to the training data.\n",
    "It achieved accuracy of 97% on testing.\n",
    "\n",
    "That accuracy can't be guaranteed on the application because the quality of the image on the application cannot be guaranteed to approximate the quality of the dataset."
   ]
  },
  {
   "cell_type": "code",
   "execution_count": 69,
   "metadata": {},
   "outputs": [
    {
     "data": {
      "text/plain": [
       "DigitClassifier(\n",
       "  (conv1): Conv2d(1, 32, kernel_size=(5, 5), stride=(1, 1))\n",
       "  (pool): MaxPool2d(kernel_size=2, stride=2, padding=0, dilation=1, ceil_mode=False)\n",
       "  (conv2): Conv2d(32, 64, kernel_size=(5, 5), stride=(1, 1))\n",
       "  (fc1): Linear(in_features=1024, out_features=128, bias=True)\n",
       "  (fc2): Linear(in_features=128, out_features=10, bias=True)\n",
       ")"
      ]
     },
     "execution_count": 69,
     "metadata": {},
     "output_type": "execute_result"
    }
   ],
   "source": [
    "from classifier.DigitClassifier import DigitClassifier\n",
    "# Load Digit Classifier\n",
    "\n",
    "# Instantiate model architecture\n",
    "model = DigitClassifier()\n",
    "\n",
    "# Load saved model weights\n",
    "model.load_state_dict(torch.load('classifier\\\\digit_classifier_very_noisy_21.pth'))\n",
    "\n",
    "# Set model to evaluation mode\n",
    "model.eval()"
   ]
  },
  {
   "attachments": {},
   "cell_type": "markdown",
   "metadata": {},
   "source": [
    "#### Image Manipulation"
   ]
  },
  {
   "cell_type": "code",
   "execution_count": 39,
   "metadata": {},
   "outputs": [],
   "source": [
    "def detect_digit(square):\n",
    "    '''\n",
    "    Determines if there exists a digit in the square,\n",
    "    uses an algorithmic approach, checks if any of the central 10x10\n",
    "    pixels are not the color of the background \n",
    "    '''\n",
    "    square = (square.numpy() * 255).astype(np.uint8).squeeze()\n",
    "    ret, square = cv.threshold(square,150,255,cv.THRESH_BINARY)\n",
    "    square = square[9:19, 9:19] #10x10 square w/out borders\n",
    "    for i in range(8):\n",
    "        for j in range(8):\n",
    "            if (square[i][j]!=0):\n",
    "                return True\n",
    "    return False"
   ]
  },
  {
   "cell_type": "code",
   "execution_count": 40,
   "metadata": {},
   "outputs": [],
   "source": [
    "def remove_grid(square):\n",
    "    '''\n",
    "    Attempts to remove the leftover pixels of the grid and leave only the pixels that represent the digits\n",
    "    '''\n",
    "    # creates matrix to identify grid and pixels that touch the grid\n",
    "    touches_grid = torch.zeros_like(square.squeeze())\n",
    "\n",
    "    square = (square.numpy() * 255).astype(np.uint8).squeeze()\n",
    "    ret, square = cv.threshold(square,115,255,cv.THRESH_BINARY)\n",
    "    square = square.astype(np.float32) / 255\n",
    "\n",
    "    # set borders to true:\n",
    "    touches_grid[0, :] = 1 #upper border\n",
    "    touches_grid[-1, :] = 1 #lower border\n",
    "    touches_grid[:, 0] = 1 #left border\n",
    "    touches_grid[:, -1] = 1 #right border\n",
    "\n",
    "    # Iterate through the rows and check if touches grid\n",
    "    for row in range(1, square.shape[0] - 1):\n",
    "        for col in range(1, square.shape[1] - 1):\n",
    "            if square[row, col] != 0 and (touches_grid[row - 1, col] or touches_grid[row, col - 1] or touches_grid[row, col + 1] or touches_grid[row+1, col]):\n",
    "                touches_grid[row, col] = 1\n",
    "        \n",
    "    for row in range(square.shape[0]):\n",
    "        for col in range(square.shape[1]):\n",
    "            if touches_grid[row, col] == 1:\n",
    "                square[row, col] = 0\n",
    "\n",
    "    square = torch.tensor(square).unsqueeze(0)\n",
    "    return square\n",
    "    "
   ]
  },
  {
   "cell_type": "code",
   "execution_count": 70,
   "metadata": {},
   "outputs": [],
   "source": [
    "def extract_digits(img):\n",
    "\n",
    "    transform = transforms.Compose([\n",
    "    transforms.Grayscale(),\n",
    "    transforms.Resize((28, 28)),\n",
    "    transforms.ToTensor()\n",
    "    ])\n",
    "\n",
    "    img_digits = []\n",
    "    digits = []\n",
    "    for i in range(0, 450, 50):\n",
    "        for j in range(0, 450, 50):\n",
    "            img_digit = img[i:i+50, j:j+50]\n",
    "            img_digit = -transform(Image.fromarray(img_digit)) + 1\n",
    "\n",
    "            if detect_digit(img_digit):\n",
    "                img_digit = remove_grid(img_digit)\n",
    "                #thresholding\n",
    "                #img_digit[img_digit < 0.5] = 0\n",
    "                img_digits.append(img_digit)\n",
    "                # plt.imshow(img_digit.squeeze(), cmap='gray')\n",
    "                # plt.show()\n",
    "\n",
    "                output = model(img_digit)\n",
    "                digit = torch.argmax(output, dim=1).item()\n",
    "                # print(f'digit: {digit}, confidence: {torch.max(torch.softmax(output, dim=1))}')\n",
    "                digits.append(digit)             \n",
    "            else:\n",
    "                img_digits.append(img_digit)\n",
    "                digits.append(0)\n",
    "\n",
    "    digits = np.array(digits).reshape((9,9))\n",
    "\n",
    "    return digits\n"
   ]
  },
  {
   "attachments": {},
   "cell_type": "markdown",
   "metadata": {},
   "source": [
    "### Sudoku Solver"
   ]
  },
  {
   "cell_type": "code",
   "execution_count": 42,
   "metadata": {},
   "outputs": [],
   "source": [
    "from sudoku import Sudoku\n",
    "\n",
    "#Solves row major form puzzles\n",
    "def findSolution(game):\n",
    "  puzzle = Sudoku(3, 3, board=game.reshape(9,9).tolist())\n",
    "  solution = puzzle.solve()\n",
    "\n",
    "  if solution.board[0][0] == None:\n",
    "    return game\n",
    "\n",
    "  solutionString = np.array(solution.board).reshape(81)\n",
    "\n",
    "  return solutionString"
   ]
  },
  {
   "attachments": {},
   "cell_type": "markdown",
   "metadata": {},
   "source": [
    "### Putting It All Together"
   ]
  },
  {
   "cell_type": "code",
   "execution_count": 71,
   "metadata": {},
   "outputs": [
    {
     "name": "stderr",
     "output_type": "stream",
     "text": [
      "100%|██████████| 5000/5000 [1:11:33<00:00,  1.16it/s]\n"
     ]
    }
   ],
   "source": [
    "training_labels_df = pd.read_csv(TRAINING_LABELS_PATH)\n",
    "\n",
    "X = []\n",
    "y = []\n",
    "\n",
    "for _idx, row in tqdm.tqdm(training_labels_df.iterrows(), total=training_labels_df.shape[0]):\n",
    "    filepath = os.path.join(\n",
    "        TRAINING_IMAGES_FOLDER,\n",
    "        f\"{row.id:04d}.png\"\n",
    "    )\n",
    "    img = cv.imread(filepath)\n",
    "\n",
    "    img_aligned = align_img(img)\n",
    "    \n",
    "    data_X = extract_digits(img_aligned)\n",
    "    # convert to list of chars\n",
    "    data_y = list(map(int, row.solution))\n",
    "    \n",
    "    X.extend(data_X)\n",
    "    y.extend(data_y)\n",
    "\n",
    "X = np.array(X)\n",
    "y = np.array(y)"
   ]
  },
  {
   "cell_type": "code",
   "execution_count": 72,
   "metadata": {},
   "outputs": [],
   "source": [
    "np.savetxt(\"all_games_5.csv\", X, delimiter=\",\")"
   ]
  },
  {
   "cell_type": "code",
   "execution_count": 77,
   "metadata": {},
   "outputs": [],
   "source": [
    "X = np.genfromtxt('all_games_5.csv', delimiter=',').astype(int)\n",
    "# y = np.genfromtxt('all_solutions.csv', delimiter=',').astype(int)"
   ]
  },
  {
   "cell_type": "code",
   "execution_count": 78,
   "metadata": {},
   "outputs": [
    {
     "name": "stdout",
     "output_type": "stream",
     "text": [
      "solved game!\n",
      "solved game!\n",
      "solved game!\n",
      "solved game!\n",
      "solved game!\n",
      "solved game!\n",
      "solved game!\n",
      "solved game!\n",
      "solved game!\n",
      "solved game!\n",
      "solved game!\n",
      "solved game!\n",
      "solved game!\n",
      "solved game!\n",
      "solved game!\n",
      "solved game!\n",
      "solved game!\n",
      "solved game!\n",
      "solved game!\n",
      "solved game!\n",
      "solved game!\n",
      "solved game!\n",
      "solved game!\n",
      "solved game!\n",
      "solved game!\n",
      "solved game!\n",
      "solved game!\n",
      "solved game!\n",
      "solved game!\n",
      "solved game!\n",
      "solved game!\n",
      "solved game!\n",
      "solved game!\n",
      "solved game!\n",
      "solved game!\n",
      "solved game!\n",
      "solved game!\n",
      "solved game!\n",
      "solved game!\n",
      "solved game!\n",
      "solved game!\n",
      "solved game!\n",
      "solved game!\n",
      "solved game!\n",
      "solved game!\n",
      "solved game!\n",
      "solved game!\n",
      "solved game!\n",
      "solved game!\n",
      "solved game!\n",
      "solved game!\n",
      "solved game!\n",
      "solved game!\n",
      "solved game!\n",
      "solved game!\n",
      "solved game!\n",
      "solved game!\n",
      "solved game!\n",
      "solved game!\n",
      "solved game!\n",
      "solved game!\n",
      "solved game!\n",
      "solved game!\n",
      "solved game!\n",
      "solved game!\n",
      "solved game!\n",
      "solved game!\n",
      "solved game!\n",
      "solved game!\n",
      "solved game!\n",
      "solved game!\n",
      "solved game!\n",
      "solved game!\n",
      "solved game!\n",
      "solved game!\n",
      "solved game!\n",
      "21.617572839506174\n"
     ]
    }
   ],
   "source": [
    "X = X.reshape(5000, 81)\n",
    "y = y.reshape(5000, 81)\n",
    "\n",
    "X_solved = []\n",
    "\n",
    "for game in X.astype(int):\n",
    "    X_solved.append(findSolution(game))\n",
    "\n",
    "X_solved = np.array(X_solved)\n",
    "#X_solved[X_solved == 0] = 5\n",
    "\n",
    "# Calculate the MSE loss between x and y\n",
    "loss = np.mean(np.square(X_solved - y))\n",
    "print(loss)"
   ]
  },
  {
   "attachments": {},
   "cell_type": "markdown",
   "metadata": {},
   "source": [
    "best result: 5.3259185185185185"
   ]
  },
  {
   "cell_type": "code",
   "execution_count": 81,
   "metadata": {},
   "outputs": [
    {
     "data": {
      "text/plain": [
       "array([7, 9, 9, ..., 1, 5, 2])"
      ]
     },
     "execution_count": 81,
     "metadata": {},
     "output_type": "execute_result"
    }
   ],
   "source": [
    "X_solved_filtered = X_solved[X_solved != 0]\n",
    "X_solved_filtered"
   ]
  },
  {
   "cell_type": "code",
   "execution_count": 82,
   "metadata": {},
   "outputs": [
    {
     "data": {
      "text/plain": [
       "array([7, 9, 4, ..., 1, 5, 2])"
      ]
     },
     "execution_count": 82,
     "metadata": {},
     "output_type": "execute_result"
    }
   ],
   "source": [
    "y_filtered = y[X_solved != 0]\n",
    "y_filtered"
   ]
  },
  {
   "cell_type": "code",
   "execution_count": 83,
   "metadata": {},
   "outputs": [
    {
     "name": "stdout",
     "output_type": "stream",
     "text": [
      "Accuracy: 0.7739406899677108\n"
     ]
    }
   ],
   "source": [
    "# Calculate accuracy\n",
    "accuracy = np.sum(X_solved_filtered == y_filtered) / len(X_solved_filtered)\n",
    "print('Accuracy:', accuracy)"
   ]
  },
  {
   "cell_type": "code",
   "execution_count": 75,
   "metadata": {},
   "outputs": [
    {
     "name": "stdout",
     "output_type": "stream",
     "text": [
      "Accuracy: 27.6898\n"
     ]
    }
   ],
   "source": [
    "# Calculate accuracy\n",
    "accuracy = np.sum(X_solved == y) / len(X_solved)\n",
    "print('Accuracy:', accuracy)"
   ]
  },
  {
   "attachments": {},
   "cell_type": "markdown",
   "metadata": {},
   "source": [
    "Accuracy: 27.6898"
   ]
  },
  {
   "cell_type": "code",
   "execution_count": 76,
   "metadata": {},
   "outputs": [
    {
     "name": "stdout",
     "output_type": "stream",
     "text": [
      "[[    0     0     0     0     0     0     0     0     0     0]\n",
      " [29990 12515   610     3   207    55    17   407   356   840]\n",
      " [29620    12 13606   128    20  1181    10   342    47    34]\n",
      " [29679   187   153 13044    74   863    17   121    54   808]\n",
      " [29556   175   498     2 10178   213  2971    34   802   571]\n",
      " [29597     2    32   147   103 13824    96   138   248   813]\n",
      " [29552     0    18     0   500  1899 11909     2   491   629]\n",
      " [30526   256    94    44   231    41    10 13594     1   203]\n",
      " [29648     3   214  1422  1018   256  1841     5  6104  4489]\n",
      " [29733    25    19    26  1156  1053   440    49     3 12496]]\n"
     ]
    },
    {
     "data": {
      "image/png": "[encoded data removed]",
      "text/plain": [
       "<Figure size 640x480 with 2 Axes>"
      ]
     },
     "metadata": {},
     "output_type": "display_data"
    }
   ],
   "source": [
    "from sklearn.metrics import confusion_matrix\n",
    "import matplotlib.pyplot as plt\n",
    "import numpy as np\n",
    "\n",
    "# Generate example data\n",
    "y_true = y.flatten()\n",
    "y_pred = X.flatten()\n",
    "\n",
    "# Calculate confusion matrix\n",
    "cm = confusion_matrix(y_true, y_pred)\n",
    "\n",
    "print(cm)\n",
    "\n",
    "# Plot confusion matrix\n",
    "fig, ax = plt.subplots()\n",
    "im = ax.imshow(cm, cmap='Blues')\n",
    "\n",
    "# Add colorbar\n",
    "cbar = ax.figure.colorbar(im, ax=ax)\n",
    "\n",
    "# Set ticks and tick labels\n",
    "ax.set_xticks(np.arange(len(np.unique(y_pred))))\n",
    "ax.set_yticks(np.arange(len(np.unique(y_pred))))\n",
    "ax.set_xticklabels(np.unique(y_pred))\n",
    "ax.set_yticklabels(np.unique(y_pred))\n",
    "ax.tick_params(axis='x', labelrotation=45)\n",
    "\n",
    "# Add annotations\n",
    "thresh = cm.max() / 2.0\n",
    "for i in range(len(np.unique(y_pred))):\n",
    "    for j in range(len(np.unique(y_pred))):\n",
    "        ax.text(j, i, format(cm[i, j], 'd'),\n",
    "                ha=\"center\", va=\"center\",\n",
    "                color=\"white\" if cm[i, j] > thresh else \"black\")\n",
    "\n",
    "# Set labels\n",
    "ax.set_xlabel('Predicted label')\n",
    "ax.set_ylabel('True label')\n",
    "\n",
    "# Show plot\n",
    "plt.show()"
   ]
  }
 ],
 "metadata": {
  "kernelspec": {
   "display_name": "Python 3",
   "language": "python",
   "name": "python3"
  },
  "language_info": {
   "codemirror_mode": {
    "name": "ipython",
    "version": 3
   },
   "file_extension": ".py",
   "mimetype": "text/x-python",
   "name": "python",
   "nbconvert_exporter": "python",
   "pygments_lexer": "ipython3",
   "version": "3.10.10"
  },
  "orig_nbformat": 4
 },
 "nbformat": 4,
 "nbformat_minor": 2
}
